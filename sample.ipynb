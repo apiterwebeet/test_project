{
 "cells": [
  {
   "cell_type": "code",
   "execution_count": 3,
   "id": "e86fc232",
   "metadata": {},
   "outputs": [],
   "source": [
    "import pandas as pd "
   ]
  },
  {
   "cell_type": "code",
   "execution_count": 4,
   "id": "f738da41",
   "metadata": {},
   "outputs": [],
   "source": [
    "new_list=[1,2,3,4,5,6,7,8,9,10]"
   ]
  },
  {
   "cell_type": "markdown",
   "id": "5f566ad3",
   "metadata": {},
   "source": [
    "## this is markdown"
   ]
  },
  {
   "cell_type": "code",
   "execution_count": null,
   "id": "5b162ae7",
   "metadata": {},
   "outputs": [],
   "source": []
  }
 ],
 "metadata": {
  "kernelspec": {
   "display_name": "Python 3",
   "language": "python",
   "name": "python3"
  },
  "language_info": {
   "codemirror_mode": {
    "name": "ipython",
    "version": 3
   },
   "file_extension": ".py",
   "mimetype": "text/x-python",
   "name": "python",
   "nbconvert_exporter": "python",
   "pygments_lexer": "ipython3",
   "version": "3.11.5"
  }
 },
 "nbformat": 4,
 "nbformat_minor": 5
}
